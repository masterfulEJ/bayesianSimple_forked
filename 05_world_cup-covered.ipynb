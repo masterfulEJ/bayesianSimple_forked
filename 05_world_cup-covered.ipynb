{
 "cells": [
  {
   "cell_type": "markdown",
   "metadata": {},
   "source": [
    "## Bayesian Statistics Made Simple\n",
    "\n",
    "Code and exercises from my workshop on Bayesian statistics in Python.\n",
    "\n",
    "Copyright 2019 Allen Downey\n",
    "\n",
    "MIT License: https://opensource.org/licenses/MIT"
   ]
  },
  {
   "cell_type": "code",
   "execution_count": 1,
   "metadata": {},
   "outputs": [],
   "source": [
    "%matplotlib inline\n",
    "\n",
    "import numpy as np\n",
    "import pandas as pd\n",
    "\n",
    "import seaborn as sns\n",
    "sns.set_style('white')\n",
    "sns.set_context('talk')\n",
    "\n",
    "import matplotlib.pyplot as plt\n",
    "\n",
    "from empyrical_dist import Pmf"
   ]
  },
  {
   "cell_type": "markdown",
   "metadata": {},
   "source": [
    "### The World Cup problem\n",
    "\n",
    "In the 2018 FIFA World Cup final, France defeated Croatia 4 goals to 2.  Based on this outcome, we can answer the following questions:\n",
    "\n",
    "1. How confident should we be that France is the better team?\n",
    "\n",
    "2. If the same teams played again, what is the chance Croatia would win?\n",
    "\n",
    "To answer these questions, we have to make some modeling assumptions:\n",
    "\n",
    "1. Goal scoring can be well modeled by a Poisson process, so the distribution of goals scored by each team against the other is Poisson($\\lambda$), where $\\lambda$ is a goal-scoring rate, measured in goals per game.\n",
    "\n",
    "2. For two random World Cup teams, the disrtribution of goal scoring rates is Gamma($\\alpha$), where $\\alpha$ is a parameter we can choose based on past results.\n",
    "\n",
    "To determine $\\alpha$, I used [data from previous World Cups](https://www.statista.com/statistics/269031/goals-scored-per-game-at-the-fifa-world-cup-since-1930/) to estimate that the average goal scoring rate is about 1.4 goals per game.\n",
    "\n",
    "We can use `scipy.stats.gamma` to compute the PDF of the Gamma distribution."
   ]
  },
  {
   "cell_type": "code",
   "execution_count": null,
   "metadata": {},
   "outputs": [],
   "source": [
    "# my guess\n",
    "# france wins by 70%"
   ]
  },
  {
   "cell_type": "code",
   "execution_count": 2,
   "metadata": {},
   "outputs": [],
   "source": [
    "from scipy.stats import gamma\n",
    "\n",
    "α = 1.4\n",
    "qs = np.linspace(0, 6)\n",
    "ps = gamma(α).pdf(qs)"
   ]
  },
  {
   "cell_type": "code",
   "execution_count": 5,
   "metadata": {},
   "outputs": [
    {
     "data": {
      "text/plain": [
       "array([0.        , 0.43047742, 0.50255484, 0.52292698, 0.51908398,\n",
       "       0.50213757, 0.47787719, 0.44969297, 0.41969516, 0.38923874,\n",
       "       0.35920315, 0.33015531, 0.30245084, 0.2762999 , 0.25181157,\n",
       "       0.22902456, 0.20792879, 0.18848088, 0.17061523, 0.15425219,\n",
       "       0.1393038 , 0.12567815, 0.11328234, 0.10202471, 0.0918163 ,\n",
       "       0.08257192, 0.07421075, 0.06665674, 0.0598388 , 0.05369081,\n",
       "       0.04815155, 0.04316459, 0.038678  , 0.03464421, 0.03101971,\n",
       "       0.02776479, 0.0248433 , 0.02222236, 0.01987211, 0.0177655 ,\n",
       "       0.01587803, 0.01418755, 0.01267402, 0.0113194 , 0.01010737,\n",
       "       0.00902325, 0.00805383, 0.00718719, 0.00641265, 0.00572059])"
      ]
     },
     "execution_count": 5,
     "metadata": {},
     "output_type": "execute_result"
    }
   ],
   "source": [
    "ps"
   ]
  },
  {
   "cell_type": "code",
   "execution_count": 3,
   "metadata": {},
   "outputs": [
    {
     "data": {
      "text/plain": [
       "array([0.        , 0.12244898, 0.24489796, 0.36734694, 0.48979592,\n",
       "       0.6122449 , 0.73469388, 0.85714286, 0.97959184, 1.10204082,\n",
       "       1.2244898 , 1.34693878, 1.46938776, 1.59183673, 1.71428571,\n",
       "       1.83673469, 1.95918367, 2.08163265, 2.20408163, 2.32653061,\n",
       "       2.44897959, 2.57142857, 2.69387755, 2.81632653, 2.93877551,\n",
       "       3.06122449, 3.18367347, 3.30612245, 3.42857143, 3.55102041,\n",
       "       3.67346939, 3.79591837, 3.91836735, 4.04081633, 4.16326531,\n",
       "       4.28571429, 4.40816327, 4.53061224, 4.65306122, 4.7755102 ,\n",
       "       4.89795918, 5.02040816, 5.14285714, 5.26530612, 5.3877551 ,\n",
       "       5.51020408, 5.63265306, 5.75510204, 5.87755102, 6.        ])"
      ]
     },
     "execution_count": 3,
     "metadata": {},
     "output_type": "execute_result"
    }
   ],
   "source": [
    "qs"
   ]
  },
  {
   "cell_type": "code",
   "execution_count": 4,
   "metadata": {},
   "outputs": [],
   "source": [
    "# weighted sum of qs by ps is approx 1.4\n",
    "# gamma(α).pdf(qs).dot(qs) / gamma(α).pdf(qs).sum()"
   ]
  },
  {
   "cell_type": "markdown",
   "metadata": {},
   "source": [
    "Now we can use `qs` and `ps` to make a `Pmf` that represents the prior distribution"
   ]
  },
  {
   "cell_type": "code",
   "execution_count": 6,
   "metadata": {},
   "outputs": [
    {
     "data": {
      "text/plain": [
       "1.3870150350170798"
      ]
     },
     "execution_count": 6,
     "metadata": {},
     "output_type": "execute_result"
    }
   ],
   "source": [
    "prior = Pmf(ps, index=qs)\n",
    "prior.normalize()\n",
    "prior.mean()"
   ]
  },
  {
   "cell_type": "markdown",
   "metadata": {},
   "source": [
    "And plot it."
   ]
  },
  {
   "cell_type": "code",
   "execution_count": 7,
   "metadata": {},
   "outputs": [],
   "source": [
    "def decorate_rate(title):\n",
    "    \"\"\"Labels the axes.\n",
    "    \n",
    "    title: string\n",
    "    \"\"\"\n",
    "    plt.xlabel('Goal scoring rate')\n",
    "    plt.ylabel('PMF')\n",
    "    plt.title(title)"
   ]
  },
  {
   "cell_type": "code",
   "execution_count": 8,
   "metadata": {},
   "outputs": [
    {
     "data": {
      "image/png": "[encoded data removed]",
      "text/plain": [
       "<Figure size 432x288 with 1 Axes>"
      ]
     },
     "metadata": {
      "needs_background": "light"
     },
     "output_type": "display_data"
    }
   ],
   "source": [
    "prior.plot()\n",
    "decorate_rate('Prior distribution')"
   ]
  },
  {
   "cell_type": "markdown",
   "metadata": {},
   "source": [
    "This prior implies:\n",
    "\n",
    "1. The most common goal-scoring rates are near 1.\n",
    "\n",
    "2. The goal-scoring rate is never 0; eventually, any team will score against any other.\n",
    "\n",
    "3. The goal-scoring rate is unlikely to be greater than 4, and never greater than 6."
   ]
  },
  {
   "cell_type": "markdown",
   "metadata": {},
   "source": [
    "### The likelihood function\n",
    "\n",
    "Suppose you are given the goal-scoring rate, $\\lambda$, and asked to compute the probability of scoring a number of goals, $k$.  The answer is given by the Poisson PMF:\n",
    "\n",
    "$ \\mathrm{PMF}(k; \\lambda) = \\frac{\\lambda^k \\exp(-\\lambda)}{k!} $\n",
    "\n",
    "**Exercise 1:** Write a likelihood function that takes $k$ and $\\lambda$ as parameters `data` and `hypo`, and computes $\\mathrm{PMF}(k; \\lambda)$.\n",
    "\n",
    "You can use NumPy/SciPy functions or `scipy.stats.poisson`. "
   ]
  },
  {
   "cell_type": "code",
   "execution_count": 9,
   "metadata": {},
   "outputs": [],
   "source": [
    "from math import factorial\n",
    "# from scipy.special import factorial\n",
    "\n",
    "def likelihood(data, hypo):\n",
    "    \"\"\"Likelihood function for World Cup\n",
    "    \n",
    "    data: integer number of goals in a game\n",
    "    hypo: goal scoring rate in goals per game\n",
    "    \n",
    "    returns: float probability\n",
    "    \"\"\"\n",
    "    # TODO: fill this in!\n",
    "    k = data\n",
    "    lam = hypo\n",
    "    \n",
    "    like = (lam ** k) * np.exp(-lam) / factorial(k)\n",
    "    return like"
   ]
  },
  {
   "cell_type": "code",
   "execution_count": 10,
   "metadata": {},
   "outputs": [],
   "source": [
    "from scipy.stats import poisson\n",
    "\n",
    "# Solution goes here\n",
    "def likelihood(data, hypo):\n",
    "    \"\"\"Likelihood function for World Cup\n",
    "    \n",
    "    data: integer number of goals in a game\n",
    "    hypo: goal scoring rate in goals per game\n",
    "    \n",
    "    returns: float probability\n",
    "    \"\"\"\n",
    "    # TODO: fill this in!\n",
    "    k = data\n",
    "    lam = hypo\n",
    "    \n",
    "    return poisson.pmf(k, lam)"
   ]
  },
  {
   "cell_type": "code",
   "execution_count": 14,
   "metadata": {},
   "outputs": [
    {
     "data": {
      "text/plain": [
       "array([0.        , 0.18393972, 0.27067057, 0.22404181, 0.14652511,\n",
       "       0.08422434, 0.04461754, 0.02234111, 0.0107348 , 0.0049981 ])"
      ]
     },
     "execution_count": 14,
     "metadata": {},
     "output_type": "execute_result"
    }
   ],
   "source": [
    "poisson.pmf(2, range(10))"
   ]
  },
  {
   "cell_type": "code",
   "execution_count": null,
   "metadata": {},
   "outputs": [],
   "source": [
    "# Solution goes here"
   ]
  },
  {
   "cell_type": "markdown",
   "metadata": {},
   "source": [
    "### Update\n",
    "\n",
    "First we'll compute the posterior distribution for France, having seen them score 4 goals."
   ]
  },
  {
   "cell_type": "code",
   "execution_count": 26,
   "metadata": {},
   "outputs": [
    {
     "data": {
      "text/plain": [
       "2.656282076744656"
      ]
     },
     "execution_count": 26,
     "metadata": {},
     "output_type": "execute_result"
    },
    {
     "data": {
      "image/png": "[encoded data removed]",
      "text/plain": [
       "<Figure size 432x288 with 1 Axes>"
      ]
     },
     "metadata": {
      "needs_background": "light"
     },
     "output_type": "display_data"
    }
   ],
   "source": [
    "france = Pmf(prior, copy=True)\n",
    "\n",
    "prior.plot(label='France-prior', color='grey', linestyle='--')\n",
    "\n",
    "france.update(likelihood, 4)\n",
    "france.plot(label='France-posterior')\n",
    "plt.legend()\n",
    "decorate_rate('Posterior distribution, 4 goals')\n",
    "\n",
    "france.mean()"
   ]
  },
  {
   "cell_type": "markdown",
   "metadata": {},
   "source": [
    "**Exercise 2:** Do the same for Croatia."
   ]
  },
  {
   "cell_type": "code",
   "execution_count": 28,
   "metadata": {},
   "outputs": [
    {
     "data": {
      "text/plain": [
       "1.695567117265963"
      ]
     },
     "execution_count": 28,
     "metadata": {},
     "output_type": "execute_result"
    },
    {
     "data": {
      "image/png": "[encoded data removed]",
      "text/plain": [
       "<Figure size 432x288 with 1 Axes>"
      ]
     },
     "metadata": {
      "needs_background": "light"
     },
     "output_type": "display_data"
    }
   ],
   "source": [
    "## Solution\n",
    "\n",
    "croatia = Pmf(prior, copy=True)\n",
    "\n",
    "prior.plot(label='Croatia-prior', color='grey', linestyle='--')\n",
    "\n",
    "croatia.update(likelihood, 2)\n",
    "croatia.plot(label='Croatia-posterior', color='C3')\n",
    "plt.legend()\n",
    "decorate_rate('Posterior distribution, 2 goals')\n",
    "\n",
    "croatia.mean()"
   ]
  },
  {
   "cell_type": "markdown",
   "metadata": {},
   "source": [
    "### Probability of superiority\n",
    "\n",
    "Now that we have a posterior distribution for each team, we can answer the first question: How confident should we be that France is the better team?\n",
    "\n",
    "In the model, \"better\" means having a higher goal-scoring rate against the opponent.  We can use the posterior distributions to compute the \"probability of superiority\", which is the probability that a random value drawn from France's disgrtibution exceeds a value drawn from Croatia's.\n",
    "\n",
    "Remember that `Pmf` provides `choice`, which returns a random sample as a NumPy array:"
   ]
  },
  {
   "cell_type": "code",
   "execution_count": 40,
   "metadata": {},
   "outputs": [
    {
     "data": {
      "text/plain": [
       "2.5960408163265307"
      ]
     },
     "execution_count": 40,
     "metadata": {},
     "output_type": "execute_result"
    }
   ],
   "source": [
    "sample_france = france.choice(size=1000)\n",
    "sample_france.mean()"
   ]
  },
  {
   "cell_type": "markdown",
   "metadata": {},
   "source": [
    "**Exercise 3:** Generate a similar sample for Croatia; then compute the fraction of samples where the goal-scoring rate is higher for Croatia.  \n",
    "\n",
    "Hint: use `np.mean`."
   ]
  },
  {
   "cell_type": "code",
   "execution_count": 41,
   "metadata": {},
   "outputs": [
    {
     "data": {
      "text/plain": [
       "1.7336326530612243"
      ]
     },
     "execution_count": 41,
     "metadata": {},
     "output_type": "execute_result"
    }
   ],
   "source": [
    "# Solution goes here\n",
    "sample_croatia = croatia.choice(size=1000)\n",
    "sample_croatia.mean()"
   ]
  },
  {
   "cell_type": "code",
   "execution_count": 42,
   "metadata": {},
   "outputs": [
    {
     "data": {
      "text/plain": [
       "726"
      ]
     },
     "execution_count": 42,
     "metadata": {},
     "output_type": "execute_result"
    }
   ],
   "source": [
    "# Solution goes here\n",
    "np.sum(sample_france > sample_croatia)"
   ]
  },
  {
   "cell_type": "markdown",
   "metadata": {},
   "source": [
    "On the basis of one game, we have only moderate confidence that France is actually the better team."
   ]
  },
  {
   "cell_type": "markdown",
   "metadata": {},
   "source": [
    "### Predicting the rematch\n",
    "\n",
    "Now we can take on the second question: If the same teams played again, what is the chance Croatia would win?\n",
    "\n",
    "To answer this question, we'll generate a sample from the \"posterior predictive distribution\", which is the number of goals we expect a team to score.\n",
    "\n",
    "If we knew the goal scoring rate, $\\lambda$, the distribution of goals would be $Poisson(\\lambda)$.\n",
    "\n",
    "Since we don't know $\\lambda$, we can use the sample we generated in the previous section to generate a sample of goals, like this:"
   ]
  },
  {
   "cell_type": "code",
   "execution_count": null,
   "metadata": {},
   "outputs": [],
   "source": [
    "# sample_france : distribution of lambda's for france\n",
    "#                 given 4 goals prior, gives 1000 choices (simulations), gives lambda."
   ]
  },
  {
   "cell_type": "code",
   "execution_count": 53,
   "metadata": {},
   "outputs": [],
   "source": [
    "goals_france = np.random.poisson(sample_france)"
   ]
  },
  {
   "cell_type": "code",
   "execution_count": 54,
   "metadata": {},
   "outputs": [
    {
     "data": {
      "text/plain": [
       "array([ 5,  6,  4,  6,  2,  2,  1,  3,  2,  4,  2,  3,  1,  2,  9,  1,  2,\n",
       "        1,  2,  9,  5,  3,  1,  0,  3,  6,  3,  1,  3,  1,  8,  6,  4,  2,\n",
       "        2,  3,  3,  0,  3,  2,  4,  0,  4,  1,  0,  4,  1,  3,  4,  3,  4,\n",
       "        0,  4,  3,  0,  0,  4,  4,  3,  5,  0,  3,  1,  1,  2,  3,  1,  3,\n",
       "        1,  3,  4,  9,  4,  1,  2,  3,  2,  1,  2,  2,  2,  1,  0,  0,  5,\n",
       "        8,  4,  1,  0,  2,  1,  1,  8,  0,  3,  2,  3,  1,  3,  5,  5,  3,\n",
       "        0,  5,  4,  3,  0, 10,  2,  1,  4,  0,  5,  3,  6,  2,  2,  2,  3,\n",
       "        1,  4,  1,  4,  6,  8,  3,  0,  5,  0,  4,  3,  2,  4,  4,  2,  1,\n",
       "        2,  4,  2,  3,  2,  7,  1,  6,  0,  3,  2,  0,  3,  5,  3,  1,  1,\n",
       "        3,  3,  1,  4,  2,  5,  3,  0,  1,  5,  4,  4,  2,  3,  3,  0,  4,\n",
       "        5,  6,  1,  2,  0,  2,  2,  2,  1,  2,  2,  3,  2,  2,  3,  0,  2,\n",
       "        3,  1,  2,  3,  1,  1,  1,  4,  0,  4,  0,  2,  4,  0,  6,  2,  2,\n",
       "        1,  5,  0,  3,  3,  5,  5,  2,  6,  2,  4,  2,  8,  0,  2,  0,  4,\n",
       "        0,  2,  1,  6,  5,  1,  4,  2,  4,  2,  1,  5,  0,  1,  1,  6,  3,\n",
       "        2,  9,  4,  4,  5,  4,  3,  4,  3,  1,  2,  1,  1,  3,  2,  5,  1,\n",
       "        4,  3,  7,  1,  7,  2,  1,  2,  1,  2,  4,  5,  6,  0,  3,  1,  0,\n",
       "        3,  6,  1,  2,  0,  6,  3,  0,  3,  2,  2,  3,  1,  1,  6,  1,  2,\n",
       "        2,  3,  1,  5,  0,  1,  1,  2,  1,  4,  2,  3,  3,  1,  4,  1,  6,\n",
       "        1,  3,  2,  1,  4,  4,  1,  1,  3,  1,  2,  4,  0,  1,  2,  4,  3,\n",
       "        0,  5,  3,  4,  3,  4,  0,  1,  2,  3,  3,  3,  4,  5,  2,  5,  6,\n",
       "        3,  2,  2,  1,  6,  6,  1,  2,  3,  3,  2,  1,  1,  0,  1,  2,  6,\n",
       "        3,  1,  5,  0,  1,  4,  2,  0,  1,  3,  0,  3,  0,  0,  5,  2,  2,\n",
       "        5,  0,  1,  0,  0,  2,  3,  2,  3,  1,  2,  3,  1,  1,  3,  6,  3,\n",
       "        4,  2,  2,  3,  2,  0,  0,  1,  7,  4,  3,  3,  1,  3,  2,  1,  2,\n",
       "        3,  7,  2,  5,  1,  1,  2,  7,  8,  7,  5,  1,  3,  1,  1,  3,  2,\n",
       "        2,  6,  0,  1,  2,  3,  0,  2,  2,  3,  1,  4,  5,  3,  2,  6,  5,\n",
       "        3,  1,  7,  3,  1,  2,  5,  2,  4,  1,  4,  3,  2,  2,  2,  0,  3,\n",
       "        2,  3,  2,  1,  2,  2,  1,  0,  1,  2,  5,  3,  3,  4,  4,  0,  6,\n",
       "        1,  4,  1,  8,  1,  3,  6,  1,  1,  3,  6,  2,  2,  1,  2,  2,  3,\n",
       "        1,  2,  6,  2,  2,  6,  2,  3,  3,  1,  1,  2,  2,  3,  1,  0,  1,\n",
       "        2,  4,  2,  5,  2,  5,  2,  4,  4,  2,  2,  1,  0,  5,  3,  3,  1,\n",
       "        0,  3,  6,  0,  2,  5,  1,  0,  3,  4,  6,  4,  4,  2,  6,  1,  4,\n",
       "        9,  3,  7,  2,  3,  2,  0,  4,  6,  2,  6,  0,  5,  1,  0,  4,  0,\n",
       "        0,  5,  2,  2,  2,  3,  5,  4,  1,  3,  4,  1,  4,  5,  7,  0,  1,\n",
       "        2,  3,  3,  1,  5,  6,  1,  2,  3,  2,  2,  6,  1,  3,  4,  1,  4,\n",
       "        2,  2,  4,  2,  1,  3,  1,  0,  3,  1,  1,  4,  0,  2,  2,  5,  1,\n",
       "        0,  2,  4,  2,  6,  1,  0,  1,  2,  2,  1,  4,  5,  4,  5,  1,  2,\n",
       "        2,  3,  1,  2,  3,  2,  1,  1,  0,  1,  1,  2,  4,  1,  2,  3,  1,\n",
       "        1,  2,  4,  2,  3,  2,  0,  5,  0,  4,  4,  3,  1,  3,  2,  3,  0,\n",
       "        5,  2,  3,  1,  3,  3,  4,  1,  3,  1,  3,  6,  4,  3,  1,  9,  3,\n",
       "        0,  2,  2,  1,  1,  4,  3,  3, 10,  2,  5,  1,  4,  7, 10,  1,  2,\n",
       "        6,  2,  5,  0,  2,  0,  2,  2,  4,  5,  1,  5,  2,  2,  3,  5,  3,\n",
       "        4,  4,  2,  0,  2,  2,  1,  5,  4,  1,  4,  4,  2,  1,  2,  2,  2,\n",
       "        2,  6,  1,  6,  7,  1,  1,  3,  4,  0,  0,  1,  2,  3,  2,  5,  1,\n",
       "        4,  1,  4,  7,  8,  2,  6,  2,  0,  5,  1,  1,  2,  2,  3,  2,  3,\n",
       "        1,  0,  3,  0,  1,  2,  5,  3,  6,  4,  0,  0,  3,  5,  2,  2,  7,\n",
       "        2,  0,  1,  4,  7,  8,  5,  4,  3,  3,  3,  4,  1,  8,  2,  0,  3,\n",
       "        9,  2,  5,  1,  2,  1,  3,  0,  6,  2,  2,  0,  9,  2,  2,  1,  2,\n",
       "        4,  1,  1,  2,  3,  1,  2,  4,  4,  3,  2,  4,  4,  0,  1,  3,  2,\n",
       "        0,  2,  5,  5,  3,  5,  2,  3,  0,  3,  4,  3,  1,  5,  1,  6,  1,\n",
       "        5,  4,  7,  1,  0,  0,  6,  5,  7,  5,  0,  1,  1,  3,  3,  1,  3,\n",
       "        7,  6,  4,  1,  0,  3,  4,  7,  1,  4,  1,  2,  1,  3,  1,  3,  3,\n",
       "        3,  9,  2,  0,  5,  2,  5,  4,  2,  2,  1,  2,  1,  0,  4,  2,  3,\n",
       "        4,  4,  3,  6,  4,  0,  1,  1,  1,  2,  0,  1,  4,  4,  0,  2,  7,\n",
       "        6,  2,  3,  2,  0,  8,  6,  6,  1,  2,  3,  2,  2,  1,  0,  1,  5,\n",
       "        1,  4,  0,  4,  4,  0,  2,  3,  1,  3,  4,  3,  0,  8,  2,  4,  2,\n",
       "        3,  2,  1,  5,  3,  3,  0,  1,  2,  2,  1,  2,  0,  3,  8,  1,  2,\n",
       "        5,  1,  0,  0,  1,  2,  0,  6,  3,  1,  3,  4,  2,  4,  3,  3,  0,\n",
       "        5,  2,  2,  2,  0,  6,  0,  2,  4,  4,  6,  4,  0,  1])"
      ]
     },
     "execution_count": 54,
     "metadata": {},
     "output_type": "execute_result"
    }
   ],
   "source": [
    "goals_france"
   ]
  },
  {
   "cell_type": "markdown",
   "metadata": {},
   "source": [
    "Now we can plot the results:"
   ]
  },
  {
   "cell_type": "code",
   "execution_count": 82,
   "metadata": {},
   "outputs": [],
   "source": [
    "def decorate_goals(title):\n",
    "    \"\"\"Labels the axes.\n",
    "    \n",
    "    title: string\n",
    "    \"\"\"\n",
    "    plt.xlabel('Goals scored')\n",
    "    plt.ylabel('PMF')\n",
    "    plt.ylim([0, 0.32])\n",
    "    plt.title(title)"
   ]
  },
  {
   "cell_type": "code",
   "execution_count": 83,
   "metadata": {},
   "outputs": [
    {
     "data": {
      "text/plain": [
       "2.692"
      ]
     },
     "execution_count": 83,
     "metadata": {},
     "output_type": "execute_result"
    },
    {
     "data": {
      "image/png": "[encoded data removed]",
      "text/plain": [
       "<Figure size 432x288 with 1 Axes>"
      ]
     },
     "metadata": {
      "needs_background": "light"
     },
     "output_type": "display_data"
    }
   ],
   "source": [
    "pmf_france = Pmf.from_seq(goals_france)\n",
    "pmf_france.bar(label='France')\n",
    "decorate_goals('Predictive distribution')\n",
    "plt.legend()\n",
    "\n",
    "goals_france.mean()"
   ]
  },
  {
   "cell_type": "markdown",
   "metadata": {},
   "source": [
    "This distribution represents two sources of uncertainty: we don't know the actual value of $\\lambda$, and even if we did, we would not know the number of goals in the next game."
   ]
  },
  {
   "cell_type": "markdown",
   "metadata": {},
   "source": [
    "**Exercise 4:** Generate and plot the predictive distribution for Croatia."
   ]
  },
  {
   "cell_type": "code",
   "execution_count": 84,
   "metadata": {},
   "outputs": [],
   "source": [
    "goals_croatia = np.random.poisson(sample_croatia)"
   ]
  },
  {
   "cell_type": "code",
   "execution_count": 85,
   "metadata": {},
   "outputs": [
    {
     "data": {
      "text/plain": [
       "1.727"
      ]
     },
     "execution_count": 85,
     "metadata": {},
     "output_type": "execute_result"
    },
    {
     "data": {
      "image/png": "[encoded data removed]",
      "text/plain": [
       "<Figure size 432x288 with 1 Axes>"
      ]
     },
     "metadata": {
      "needs_background": "light"
     },
     "output_type": "display_data"
    }
   ],
   "source": [
    "# Solution goes here\n",
    "pmf_croatia = Pmf.from_seq(goals_croatia)\n",
    "pmf_croatia.bar(label='croatia')\n",
    "decorate_goals('Predictive distribution')\n",
    "plt.legend()\n",
    "\n",
    "goals_croatia.mean()"
   ]
  },
  {
   "cell_type": "markdown",
   "metadata": {},
   "source": [
    "In a sense, these distributions represent the outcomes of 1000 simulated games."
   ]
  },
  {
   "cell_type": "markdown",
   "metadata": {},
   "source": [
    "**Exercise 5:** Compute the fraction of simulated rematches Croatia would win, how many France would win, and how many would end in a tie."
   ]
  },
  {
   "cell_type": "code",
   "execution_count": 86,
   "metadata": {},
   "outputs": [
    {
     "data": {
      "text/plain": [
       "0.261"
      ]
     },
     "execution_count": 86,
     "metadata": {},
     "output_type": "execute_result"
    }
   ],
   "source": [
    "# Solution\n",
    "np.mean(goals_croatia > goals_france)"
   ]
  },
  {
   "cell_type": "code",
   "execution_count": 87,
   "metadata": {},
   "outputs": [
    {
     "data": {
      "text/plain": [
       "0.564"
      ]
     },
     "execution_count": 87,
     "metadata": {},
     "output_type": "execute_result"
    }
   ],
   "source": [
    "# Solution\n",
    "np.mean(goals_france > goals_croatia)"
   ]
  },
  {
   "cell_type": "code",
   "execution_count": 88,
   "metadata": {},
   "outputs": [
    {
     "data": {
      "text/plain": [
       "0.175"
      ]
     },
     "execution_count": 88,
     "metadata": {},
     "output_type": "execute_result"
    }
   ],
   "source": [
    "# Solution\n",
    "np.mean(goals_france == goals_croatia)"
   ]
  },
  {
   "cell_type": "code",
   "execution_count": null,
   "metadata": {},
   "outputs": [],
   "source": [
    "# MCMC\n",
    "# monte carlo markov chain"
   ]
  },
  {
   "cell_type": "markdown",
   "metadata": {},
   "source": [
    "Assuming that Croatia wins half of the ties, their chance of winning the rematch is about 33%."
   ]
  }
 ],
 "metadata": {
  "kernelspec": {
   "display_name": "Python 3",
   "language": "python",
   "name": "python3"
  },
  "language_info": {
   "codemirror_mode": {
    "name": "ipython",
    "version": 3
   },
   "file_extension": ".py",
   "mimetype": "text/x-python",
   "name": "python",
   "nbconvert_exporter": "python",
   "pygments_lexer": "ipython3",
   "version": "3.7.3"
  },
  "toc": {
   "base_numbering": 1,
   "nav_menu": {},
   "number_sections": true,
   "sideBar": true,
   "skip_h1_title": false,
   "title_cell": "Table of Contents",
   "title_sidebar": "Contents",
   "toc_cell": false,
   "toc_position": {},
   "toc_section_display": true,
   "toc_window_display": false
  }
 },
 "nbformat": 4,
 "nbformat_minor": 1
}
